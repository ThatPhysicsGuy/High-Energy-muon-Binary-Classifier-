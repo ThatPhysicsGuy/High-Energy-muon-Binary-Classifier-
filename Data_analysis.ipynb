{
 "cells": [
  {
   "cell_type": "code",
   "execution_count": null,
   "metadata": {},
   "outputs": [],
   "source": [
    "import numpy as np\n",
    "import pandas as pd"
   ]
  },
  {
   "cell_type": "code",
   "execution_count": null,
   "metadata": {},
   "outputs": [],
   "source": [
    "def Get_name(file):\n",
    "    name = []\n",
    "    for i in range(0,len(file)): \n",
    "        if 'G4Track' in file[i]:\n",
    "            a = file[i][35:50]\n",
    "            if ',' in a:\n",
    "                b = a.index(',')\n",
    "                c = a[:b]\n",
    "            if c not in name:\n",
    "                name.append(c)\n",
    "    return name    "
   ]
  },
  {
   "cell_type": "code",
   "execution_count": null,
   "metadata": {},
   "outputs": [],
   "source": [
    "def Get_apperance(file,name_list):\n",
    "    \n",
    "    list_ci = []\n",
    "\n",
    "    for i in name_list:\n",
    "        if 'Capture' not in i:\n",
    "            if 'energy' not in i:\n",
    "                ci = 0\n",
    "                nC = 0 \n",
    "                nCoor = []\n",
    "\n",
    "                for j in range(0,len(file)):\n",
    "                    if 'G4Track' in file[j]:   \n",
    "                        if i in file[j]:\n",
    "                            ci = ci + 1\n",
    "                            if i == 'mu-':\n",
    "                                b = file[j+4][30:45]\n",
    "                                a = b.index('  ')\n",
    "                                c = b[a:]\n",
    "                                en = (float(c))\n",
    "                            elif i != 'neutron':\n",
    "                                nCoor.append([file[j+4][6:35]])\n",
    "\n",
    "                    if i == 'neutron':\n",
    "                        if 'nCapture' in file[j]:\n",
    "                            nC = nC + 1\n",
    "                            nCoor.append([file[j][6:35]])\n",
    "                            \n",
    "                list_ci.append(ci)\n",
    "                if ci != 0:\n",
    "                    \n",
    "                    if i == 'mu-':\n",
    "                        list_ci.append(en)\n",
    "                    elif i == 'neutron':\n",
    "                        list_ci.append(nCoor)\n",
    "                        list_ci.append(nC)\n",
    "                    else:\n",
    "                        list_ci.append(nCoor) \n",
    "                        \n",
    "                else:\n",
    "                    list_ci.append(0)\n",
    "                    if i == 'neutron':\n",
    "                        list_ci.append(0)\n",
    "                        \n",
    "    return list_ci"
   ]
  },
  {
   "cell_type": "code",
   "execution_count": null,
   "metadata": {},
   "outputs": [],
   "source": [
    "def Get_slices(file_name):\n",
    "    \n",
    "    file = open(str(file_name))\n",
    "    file = file.readlines()\n",
    "    \n",
    "    index = []\n",
    "    all_the_names = []\n",
    "    all_the_apperance = []\n",
    "    #   to be continued  #\n",
    "    for i in range(0,len(file)):\n",
    "        if 'G4Track'in file[i]:\n",
    "            if 'Track ID = 1,' in file[i]:\n",
    "                index.append(i)\n",
    "    index.append(len(file))\n",
    "    \n",
    "    name = ['mu-','pi+','pi0','N16','B12','B13','O14','C10','neutron']\n",
    "        \n",
    "    for i in name:\n",
    "        if i not in all_the_names:\n",
    "            all_the_names.append(i)\n",
    "        if i != 'mu-':\n",
    "            all_the_names.append('Capture %s loc vector [mm]' %str(i))\n",
    "            if i == 'neutron':\n",
    "                all_the_names.append('number Capture neutron')\n",
    "        else:\n",
    "            all_the_names.append('Incoming muon energy')\n",
    "            \n",
    "\n",
    "    for i in range(0,len(index)-1):\n",
    "        \n",
    "        sfile = file[index[i]:index[i+1]]\n",
    "                \n",
    "        apperance = Get_apperance(sfile,all_the_names)                 \n",
    "        all_the_apperance.append(list(apperance))\n",
    "                                                            \n",
    "    return all_the_names, all_the_apperance                                     "
   ]
  },
  {
   "cell_type": "code",
   "execution_count": null,
   "metadata": {
    "scrolled": true
   },
   "outputs": [],
   "source": [
    "all_the_names, all_the_apperance = Get_slices('15GeV_1000_SK_HP')      \n",
    "df = pd.DataFrame(all_the_apperance,columns= all_the_names)"
   ]
  },
  {
   "cell_type": "code",
   "execution_count": null,
   "metadata": {},
   "outputs": [],
   "source": [
    "df.to_csv('15GeV_observables.csv')"
   ]
  },
  {
   "cell_type": "code",
   "execution_count": null,
   "metadata": {},
   "outputs": [],
   "source": []
  },
  {
   "cell_type": "code",
   "execution_count": null,
   "metadata": {},
   "outputs": [],
   "source": []
  }
 ],
 "metadata": {
  "kernelspec": {
   "display_name": "Python 3",
   "language": "python",
   "name": "python3"
  },
  "language_info": {
   "codemirror_mode": {
    "name": "ipython",
    "version": 3
   },
   "file_extension": ".py",
   "mimetype": "text/x-python",
   "name": "python",
   "nbconvert_exporter": "python",
   "pygments_lexer": "ipython3",
   "version": "3.8.3"
  }
 },
 "nbformat": 4,
 "nbformat_minor": 4
}
